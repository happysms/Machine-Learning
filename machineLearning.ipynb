{
  "nbformat": 4,
  "nbformat_minor": 0,
  "metadata": {
    "colab": {
      "name": "machineLearning.ipynb",
      "provenance": [],
      "collapsed_sections": [],
      "mount_file_id": "1xp3WYJr6Pxo-Dr09KTp-dkeI0m7PW3fu",
      "authorship_tag": "ABX9TyNRc5mPxv6KeLA7khMJSSu+",
      "include_colab_link": true
    },
    "kernelspec": {
      "name": "python3",
      "display_name": "Python 3"
    },
    "language_info": {
      "name": "python"
    }
  },
  "cells": [
    {
      "cell_type": "markdown",
      "metadata": {
        "id": "view-in-github",
        "colab_type": "text"
      },
      "source": [
        "<a href=\"https://colab.research.google.com/github/happysms/Machine-Learning/blob/main/machineLearning.ipynb\" target=\"_parent\"><img src=\"https://colab.research.google.com/assets/colab-badge.svg\" alt=\"Open In Colab\"/></a>"
      ]
    },
    {
      "cell_type": "markdown",
      "metadata": {
        "id": "q0U-828nn42X"
      },
      "source": [
        "참고 자료\n",
        "- 단층 퍼셉트론 : https://untitledtblog.tistory.com/27\n",
        "- np.where문 사용법 : https://pinkwink.kr/1236\n",
        "```\n",
        "# zip 함수 example\n",
        "Number = [1,2,3,4]\n",
        "Name = ['hong','gil','dong','nim']\n",
        "Number_Name = list(zip(Number,name))\n",
        "print(Number_Name)\n",
        "결과 : [(1 ,'hong'), (2 ,'gil'), (3 ,'dong'), (4 ,'nim')]\n",
        "\n",
        "- 클래스 레이블 : 특정 벡터를 머신러닝 모델에 통과 시켰을 때 도출되기를 기대하는 정답, 레이블과 클래스 둘 다 혼용되는 용어임\n"
      ]
    },
    {
      "cell_type": "code",
      "metadata": {
        "colab": {
          "base_uri": "https://localhost:8080/"
        },
        "id": "qjcmCDUKzjtB",
        "outputId": "749e66ee-a7db-47ff-9aa2-0107abaafada"
      },
      "source": [
        "pip install numpy"
      ],
      "execution_count": null,
      "outputs": [
        {
          "output_type": "stream",
          "text": [
            "Requirement already satisfied: numpy in /usr/local/lib/python3.7/dist-packages (1.19.5)\n"
          ],
          "name": "stdout"
        }
      ]
    },
    {
      "cell_type": "code",
      "metadata": {
        "id": "8G3knGxsh23p"
      },
      "source": [
        "# 퍼셉트론의 구현\n",
        "\n",
        "import numpy as np\n",
        "\n",
        "class Perceptron(object):\n",
        "  \"\"\"퍼셉트론 분류기\n",
        "\n",
        "  매개변수\n",
        "  ------------\n",
        "  eta : float\n",
        "    학습률(0.0과 1.0 사이)\n",
        "\n",
        "  n_iter : int\n",
        "    훈련 데이터셋 반복 횟수\n",
        "\n",
        "  random_state : int\n",
        "    가중치 무작위 초기화를 위한 난수 생성기 시드\n",
        "  \n",
        "  속성\n",
        "  ----------\n",
        "  w_ : 1d-array\n",
        "    학습된 가중치\n",
        "  errors_ : list\n",
        "    에포크마다 누적된 분류 오류 \n",
        "  \"\"\"\n",
        "\n",
        "  def __init__(self, eta = 0.01, n_iter = 50, random_state = 1):\n",
        "    self.eta = eta\n",
        "    self.n_iter = n_iter\n",
        "    self.random_state = random_state\n",
        "\n",
        "  \n",
        "  def fit(self, X, y):\n",
        "\n",
        "    \"\"\"훈련 데이터 학습\n",
        "      \n",
        "    매개변수\n",
        "    ------------\n",
        "    X : {array-like} , shape = [n_samples , n_features]\n",
        "      n_samples개의 샘플과 n_features개의 특성으로 이루어진 훈련 데이터\n",
        "    \n",
        "    y : array-like, shape = [n_samples]\n",
        "      타깃 값\n",
        "\n",
        "    반환값\n",
        "    -------\n",
        "    self : object\n",
        "    \"\"\"\n",
        "\n",
        "    rgen = np.random.RandomState(self.random_state)\n",
        "    self.w_ = rgen.normal(loc = 0.0 , scale = 0.01 , size = 1 + X.shape[1])\n",
        "    # X.shape[1]로 벡터의 차원확인\n",
        "    \n",
        "    # scale = 0.01 -> 표준편차가 0.01인 정규 분포 -> 특별한 이유 없이 벡터의 모든 원소가 0이 됨을 피하기 위해.\n",
        "\n",
        "    # rgen 넘파이 난수 생성기로 사용자가 지정한 랜덤 시드로 이전과 동일한 결과를 재현할 수 있다.\n",
        "    \n",
        "    # 가중치를 1로 초기화 하지 않는 이유는 가중치가 0이 아니여야 학습률이 분류 결과에 영향을 준다... \n",
        "    # ... 가중치가 만약 0으로 초기화 되어 있다면 학습률 파라미터 eta는 가중치 벡터의 방향이 아니라...\n",
        "    # ... 크기에만 영향을 미친다. -> 가중치가 없다면 벡터의 사이의 값은 0 이 될 수 있기에 방향에는 영향을 주지 않는다. \n",
        "    # ... 아래 코드로 예시를 달아놓음. \n",
        "  \n",
        "    self.errors_ = []\n",
        "\n",
        "    for _ in range(self.n_iter):\n",
        "      errors = 0\n",
        "      for xi, target in zip(X,y):\n",
        "        update = self.eta * (target - self.predict(xi))\n",
        "        self.w_[1:] += update * xi\n",
        "        self.w_[0] += update\n",
        "        errors += int(update != 0.0)\n",
        "      self.errors_.append(errors)\n",
        "    \n",
        "    return self\n",
        "\n",
        "  def net_input(self, X):\n",
        "    \"\"\"최종 입력 계산\"\"\"\n",
        "    return np.dot(X, self.w_[1:]) + self.w_[0]\n",
        "\n",
        "  def predict(self, X):\n",
        "    \"\"\"단위 계단 함수를 사용하여 클래스 레이블을 반환한다\"\"\"\n",
        "    return np.where(self.net_input(X) >= 0.0, 1, -1)   # where 문 사용법 맨 위 참고\n",
        "\n",
        "    \n",
        "  \n",
        "\n",
        "\n"
      ],
      "execution_count": null,
      "outputs": []
    },
    {
      "cell_type": "code",
      "metadata": {
        "colab": {
          "base_uri": "https://localhost:8080/"
        },
        "id": "wabd2BS4yJR_",
        "outputId": "7646eeb9-be22-415e-9ef8-2655cd4fec34"
      },
      "source": [
        "import numpy as np\n",
        "\n",
        "v1 = np.array([1,2,3])\n",
        "v2 = 0.5 * v1\n",
        "\n",
        "# 벡터 사이의 각도 공식 적용 cos(세타) = x.dot(y) / norm(x) * norm(y)  \n",
        "# np.linalg.norm 벡터의 norm , 벡터의 길이를 구해주는 식\n",
        "n = np.arccos(v1.dot(v2) / (np.linalg.norm(v1) * np.linalg.norm(v2))) \n",
        "print(n)"
      ],
      "execution_count": null,
      "outputs": [
        {
          "output_type": "stream",
          "text": [
            "0.0\n"
          ],
          "name": "stdout"
        }
      ]
    },
    {
      "cell_type": "code",
      "metadata": {
        "id": "HKwRfIJLh3QF"
      },
      "source": [
        "# 과제 파일\n",
        "import matplotlib.pyplot as plt\n",
        "%matplotlib inline"
      ],
      "execution_count": 16,
      "outputs": []
    },
    {
      "cell_type": "code",
      "metadata": {
        "id": "GrHtN_qQhv6B",
        "colab": {
          "base_uri": "https://localhost:8080/"
        },
        "outputId": "61d0b040-097e-4dcb-b126-912e4d722e0a"
      },
      "source": [
        "# CSV 파일을 읽기\n",
        "X, y = [], []\n",
        "\n",
        "with open('/content/drive/MyDrive/Colab Notebooks/dataset.csv', 'r') as f:\n",
        "    next(f)\n",
        "    for line in f:\n",
        "        line = line.strip()\n",
        "        if line:\n",
        "            values = line.split(',')\n",
        "        else:\n",
        "            continue\n",
        "        X.append([float(i) for i in values[:2]])\n",
        "        y.append(int(values[-1]))\n",
        "        \n",
        "print(len(X), len(y))"
      ],
      "execution_count": 15,
      "outputs": [
        {
          "output_type": "stream",
          "text": [
            "100 100\n"
          ],
          "name": "stdout"
        }
      ]
    },
    {
      "cell_type": "code",
      "metadata": {
        "id": "6TthszBoDHzR"
      },
      "source": [
        "import random\n",
        "\n",
        "# 랜덤시드 설정\n",
        "random.seed(123)\n",
        "\n",
        "# 데이터 랜덤 셔플\n",
        "idx = list(range(len(X)))\n",
        "random.shuffle(idx)\n",
        "\n",
        "# 앞 80개 까지는 학습용으로 뒤 20개는 테스트용으로 split\n",
        "X_train = [X[i] for i in idx[:80]]\n",
        "y_train = [y[i] for i in idx[:80]]\n",
        "X_test = [X[i] for i in idx[80:]]\n",
        "y_test = [y[i] for i in idx[80:]]"
      ],
      "execution_count": 17,
      "outputs": []
    },
    {
      "cell_type": "code",
      "metadata": {
        "colab": {
          "base_uri": "https://localhost:8080/",
          "height": 295
        },
        "id": "CczbCYUcDH5z",
        "outputId": "c4fddd67-b76c-4923-8b14-c3bf1212d0f3"
      },
      "source": [
        "# 클래스 별로 데이터를 시각화 하여 분포를 살펴보기\n",
        "plt.scatter([i[0] for idx, i in enumerate(X_train) if y_train[idx] == 0], \n",
        "            [i[1] for idx, i in enumerate(X_train) if y_train[idx] == 0],\n",
        "            label='class 0', marker='o')\n",
        "\n",
        "plt.scatter([i[0] for idx, i in enumerate(X_train) if y_train[idx] == 1], \n",
        "            [i[1] for idx, i in enumerate(X_train) if y_train[idx] == 1],\n",
        "            label='class 1', marker='s')\n",
        "\n",
        "plt.title('Training set')\n",
        "plt.xlabel('feature 1')\n",
        "plt.ylabel('feature 2')\n",
        "plt.xlim([0.0, 7])\n",
        "plt.ylim([-0.8, 0.8])\n",
        "plt.legend()\n",
        "plt.show()"
      ],
      "execution_count": 18,
      "outputs": [
        {
          "output_type": "display_data",
          "data": {
            "image/png": "[encoded data removed]",
            "text/plain": [
              "<Figure size 432x288 with 1 Axes>"
            ]
          },
          "metadata": {
            "tags": [],
            "needs_background": "light"
          }
        }
      ]
    },
    {
      "cell_type": "code",
      "metadata": {
        "id": "SJZR9bOcDH9D"
      },
      "source": [
        ""
      ],
      "execution_count": null,
      "outputs": []
    },
    {
      "cell_type": "code",
      "metadata": {
        "id": "q6aQvrENDH-9"
      },
      "source": [
        ""
      ],
      "execution_count": null,
      "outputs": []
    },
    {
      "cell_type": "markdown",
      "metadata": {
        "id": "DbzV763Ihil5"
      },
      "source": [
        ""
      ]
    }
  ]
}